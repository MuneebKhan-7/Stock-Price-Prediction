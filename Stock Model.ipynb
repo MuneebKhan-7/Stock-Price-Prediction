{
  "nbformat": 4,
  "nbformat_minor": 0,
  "metadata": {
    "colab": {
      "provenance": []
    },
    "kernelspec": {
      "name": "python3",
      "display_name": "Python 3"
    },
    "language_info": {
      "name": "python"
    },
    "accelerator": "TPU",
    "gpuClass": "standard"
  },
  "cells": [
    {
      "cell_type": "markdown",
      "source": [
        "## Predicting Opening Price for the next day"
      ],
      "metadata": {
        "id": "ST9vU4gvEMTY"
      }
    },
    {
      "cell_type": "code",
      "execution_count": null,
      "metadata": {
        "id": "uQpb6t8qsqAX"
      },
      "outputs": [],
      "source": [
        "import numpy as np\n",
        "import pandas as pd\n",
        "\n",
        "from sklearn.preprocessing import StandardScaler, MinMaxScaler\n",
        "\n",
        "from sklearn.metrics import mean_squared_error\n",
        "from sklearn.metrics import mean_absolute_percentage_error\n",
        "\n",
        "from sklearn.model_selection import train_test_split\n",
        "from sklearn.model_selection import TimeSeriesSplit\n",
        "\n",
        "import tensorflow as tf\n",
        "from tensorflow.keras import Sequential\n",
        "from tensorflow.keras.layers import Dense, LSTM, Dropout\n",
        "from tensorflow.keras.callbacks import EarlyStopping"
      ]
    },
    {
      "cell_type": "code",
      "source": [
        "import matplotlib.pyplot as plt\n",
        "%matplotlib inline"
      ],
      "metadata": {
        "id": "xMT6Jdk1itcL"
      },
      "execution_count": null,
      "outputs": []
    },
    {
      "cell_type": "code",
      "source": [
        "# insert appropriate file path for the dataset in pd.read_excel('')\n",
        "stock_data = pd.read_excel(\"BHARTIARTL_NS.csv\", index_col='Date')\n",
        "stock_data.head()"
      ],
      "metadata": {
        "colab": {
          "base_uri": "https://localhost:8080/",
          "height": 238
        },
        "id": "mTC8f27I0K3B",
        "outputId": "b29ae163-ed18-42d9-b144-41808767aecd"
      },
      "execution_count": null,
      "outputs": [
        {
          "output_type": "execute_result",
          "data": {
            "text/plain": [
              "                  Open        High         Low       Close   Adj Close  \\\n",
              "Date                                                                     \n",
              "2007-04-02  344.615295  344.615295  332.288757  334.653076  315.101532   \n",
              "2007-04-03  335.135101  340.276917  332.793762  336.833740  317.154755   \n",
              "2007-04-04  341.791901  346.130280  339.771912  343.169159  323.120026   \n",
              "2007-04-05  339.680084  346.566437  339.266907  342.503479  322.493256   \n",
              "2007-04-09  343.834839  351.662323  342.044403  349.389832  328.977295   \n",
              "\n",
              "               Volume  \n",
              "Date                   \n",
              "2007-04-02  2170632.0  \n",
              "2007-04-03  2225606.0  \n",
              "2007-04-04  1581013.0  \n",
              "2007-04-05  1177289.0  \n",
              "2007-04-09  1821341.0  "
            ],
            "text/html": [
              "\n",
              "  <div id=\"df-f2ac9aec-c862-4b08-b75c-3d96df19e28e\">\n",
              "    <div class=\"colab-df-container\">\n",
              "      <div>\n",
              "<style scoped>\n",
              "    .dataframe tbody tr th:only-of-type {\n",
              "        vertical-align: middle;\n",
              "    }\n",
              "\n",
              "    .dataframe tbody tr th {\n",
              "        vertical-align: top;\n",
              "    }\n",
              "\n",
              "    .dataframe thead th {\n",
              "        text-align: right;\n",
              "    }\n",
              "</style>\n",
              "<table border=\"1\" class=\"dataframe\">\n",
              "  <thead>\n",
              "    <tr style=\"text-align: right;\">\n",
              "      <th></th>\n",
              "      <th>Open</th>\n",
              "      <th>High</th>\n",
              "      <th>Low</th>\n",
              "      <th>Close</th>\n",
              "      <th>Adj Close</th>\n",
              "      <th>Volume</th>\n",
              "    </tr>\n",
              "    <tr>\n",
              "      <th>Date</th>\n",
              "      <th></th>\n",
              "      <th></th>\n",
              "      <th></th>\n",
              "      <th></th>\n",
              "      <th></th>\n",
              "      <th></th>\n",
              "    </tr>\n",
              "  </thead>\n",
              "  <tbody>\n",
              "    <tr>\n",
              "      <th>2007-04-02</th>\n",
              "      <td>344.615295</td>\n",
              "      <td>344.615295</td>\n",
              "      <td>332.288757</td>\n",
              "      <td>334.653076</td>\n",
              "      <td>315.101532</td>\n",
              "      <td>2170632.0</td>\n",
              "    </tr>\n",
              "    <tr>\n",
              "      <th>2007-04-03</th>\n",
              "      <td>335.135101</td>\n",
              "      <td>340.276917</td>\n",
              "      <td>332.793762</td>\n",
              "      <td>336.833740</td>\n",
              "      <td>317.154755</td>\n",
              "      <td>2225606.0</td>\n",
              "    </tr>\n",
              "    <tr>\n",
              "      <th>2007-04-04</th>\n",
              "      <td>341.791901</td>\n",
              "      <td>346.130280</td>\n",
              "      <td>339.771912</td>\n",
              "      <td>343.169159</td>\n",
              "      <td>323.120026</td>\n",
              "      <td>1581013.0</td>\n",
              "    </tr>\n",
              "    <tr>\n",
              "      <th>2007-04-05</th>\n",
              "      <td>339.680084</td>\n",
              "      <td>346.566437</td>\n",
              "      <td>339.266907</td>\n",
              "      <td>342.503479</td>\n",
              "      <td>322.493256</td>\n",
              "      <td>1177289.0</td>\n",
              "    </tr>\n",
              "    <tr>\n",
              "      <th>2007-04-09</th>\n",
              "      <td>343.834839</td>\n",
              "      <td>351.662323</td>\n",
              "      <td>342.044403</td>\n",
              "      <td>349.389832</td>\n",
              "      <td>328.977295</td>\n",
              "      <td>1821341.0</td>\n",
              "    </tr>\n",
              "  </tbody>\n",
              "</table>\n",
              "</div>\n",
              "      <button class=\"colab-df-convert\" onclick=\"convertToInteractive('df-f2ac9aec-c862-4b08-b75c-3d96df19e28e')\"\n",
              "              title=\"Convert this dataframe to an interactive table.\"\n",
              "              style=\"display:none;\">\n",
              "        \n",
              "  <svg xmlns=\"http://www.w3.org/2000/svg\" height=\"24px\"viewBox=\"0 0 24 24\"\n",
              "       width=\"24px\">\n",
              "    <path d=\"M0 0h24v24H0V0z\" fill=\"none\"/>\n",
              "    <path d=\"M18.56 5.44l.94 2.06.94-2.06 2.06-.94-2.06-.94-.94-2.06-.94 2.06-2.06.94zm-11 1L8.5 8.5l.94-2.06 2.06-.94-2.06-.94L8.5 2.5l-.94 2.06-2.06.94zm10 10l.94 2.06.94-2.06 2.06-.94-2.06-.94-.94-2.06-.94 2.06-2.06.94z\"/><path d=\"M17.41 7.96l-1.37-1.37c-.4-.4-.92-.59-1.43-.59-.52 0-1.04.2-1.43.59L10.3 9.45l-7.72 7.72c-.78.78-.78 2.05 0 2.83L4 21.41c.39.39.9.59 1.41.59.51 0 1.02-.2 1.41-.59l7.78-7.78 2.81-2.81c.8-.78.8-2.07 0-2.86zM5.41 20L4 18.59l7.72-7.72 1.47 1.35L5.41 20z\"/>\n",
              "  </svg>\n",
              "      </button>\n",
              "      \n",
              "  <style>\n",
              "    .colab-df-container {\n",
              "      display:flex;\n",
              "      flex-wrap:wrap;\n",
              "      gap: 12px;\n",
              "    }\n",
              "\n",
              "    .colab-df-convert {\n",
              "      background-color: #E8F0FE;\n",
              "      border: none;\n",
              "      border-radius: 50%;\n",
              "      cursor: pointer;\n",
              "      display: none;\n",
              "      fill: #1967D2;\n",
              "      height: 32px;\n",
              "      padding: 0 0 0 0;\n",
              "      width: 32px;\n",
              "    }\n",
              "\n",
              "    .colab-df-convert:hover {\n",
              "      background-color: #E2EBFA;\n",
              "      box-shadow: 0px 1px 2px rgba(60, 64, 67, 0.3), 0px 1px 3px 1px rgba(60, 64, 67, 0.15);\n",
              "      fill: #174EA6;\n",
              "    }\n",
              "\n",
              "    [theme=dark] .colab-df-convert {\n",
              "      background-color: #3B4455;\n",
              "      fill: #D2E3FC;\n",
              "    }\n",
              "\n",
              "    [theme=dark] .colab-df-convert:hover {\n",
              "      background-color: #434B5C;\n",
              "      box-shadow: 0px 1px 3px 1px rgba(0, 0, 0, 0.15);\n",
              "      filter: drop-shadow(0px 1px 2px rgba(0, 0, 0, 0.3));\n",
              "      fill: #FFFFFF;\n",
              "    }\n",
              "  </style>\n",
              "\n",
              "      <script>\n",
              "        const buttonEl =\n",
              "          document.querySelector('#df-f2ac9aec-c862-4b08-b75c-3d96df19e28e button.colab-df-convert');\n",
              "        buttonEl.style.display =\n",
              "          google.colab.kernel.accessAllowed ? 'block' : 'none';\n",
              "\n",
              "        async function convertToInteractive(key) {\n",
              "          const element = document.querySelector('#df-f2ac9aec-c862-4b08-b75c-3d96df19e28e');\n",
              "          const dataTable =\n",
              "            await google.colab.kernel.invokeFunction('convertToInteractive',\n",
              "                                                     [key], {});\n",
              "          if (!dataTable) return;\n",
              "\n",
              "          const docLinkHtml = 'Like what you see? Visit the ' +\n",
              "            '<a target=\"_blank\" href=https://colab.research.google.com/notebooks/data_table.ipynb>data table notebook</a>'\n",
              "            + ' to learn more about interactive tables.';\n",
              "          element.innerHTML = '';\n",
              "          dataTable['output_type'] = 'display_data';\n",
              "          await google.colab.output.renderOutput(dataTable, element);\n",
              "          const docLink = document.createElement('div');\n",
              "          docLink.innerHTML = docLinkHtml;\n",
              "          element.appendChild(docLink);\n",
              "        }\n",
              "      </script>\n",
              "    </div>\n",
              "  </div>\n",
              "  "
            ]
          },
          "metadata": {},
          "execution_count": 255
        }
      ]
    },
    {
      "cell_type": "code",
      "source": [
        "stock_data.index"
      ],
      "metadata": {
        "colab": {
          "base_uri": "https://localhost:8080/"
        },
        "id": "5yyPGr3D17HK",
        "outputId": "9e2e76aa-6cdf-4ae8-b16a-d80eba990e1a"
      },
      "execution_count": null,
      "outputs": [
        {
          "output_type": "execute_result",
          "data": {
            "text/plain": [
              "DatetimeIndex(['2007-04-02', '2007-04-03', '2007-04-04', '2007-04-05',\n",
              "               '2007-04-09', '2007-04-10', '2007-04-11', '2007-04-12',\n",
              "               '2007-04-13', '2007-04-16',\n",
              "               ...\n",
              "               '2022-03-16', '2022-03-17', '2022-03-21', '2022-03-22',\n",
              "               '2022-03-23', '2022-03-24', '2022-03-25', '2022-03-28',\n",
              "               '2022-03-29', '2022-03-30'],\n",
              "              dtype='datetime64[ns]', name='Date', length=3705, freq=None)"
            ]
          },
          "metadata": {},
          "execution_count": 256
        }
      ]
    },
    {
      "cell_type": "code",
      "source": [
        "stock_data.dtypes"
      ],
      "metadata": {
        "colab": {
          "base_uri": "https://localhost:8080/"
        },
        "id": "U_7qdWTU12jI",
        "outputId": "616f9ba5-62a6-46a8-ccf8-e8d04fcc7d26"
      },
      "execution_count": null,
      "outputs": [
        {
          "output_type": "execute_result",
          "data": {
            "text/plain": [
              "Open         float64\n",
              "High         float64\n",
              "Low          float64\n",
              "Close        float64\n",
              "Adj Close    float64\n",
              "Volume       float64\n",
              "dtype: object"
            ]
          },
          "metadata": {},
          "execution_count": 257
        }
      ]
    },
    {
      "cell_type": "code",
      "source": [
        "stock_data.isna().any()"
      ],
      "metadata": {
        "colab": {
          "base_uri": "https://localhost:8080/"
        },
        "id": "sIG7q_xo9vJF",
        "outputId": "5826f749-50f5-4aa5-f04b-79c487b16648"
      },
      "execution_count": null,
      "outputs": [
        {
          "output_type": "execute_result",
          "data": {
            "text/plain": [
              "Open         True\n",
              "High         True\n",
              "Low          True\n",
              "Close        True\n",
              "Adj Close    True\n",
              "Volume       True\n",
              "dtype: bool"
            ]
          },
          "metadata": {},
          "execution_count": 258
        }
      ]
    },
    {
      "cell_type": "code",
      "source": [
        "stock_data = stock_data.fillna(stock_data.mean())"
      ],
      "metadata": {
        "id": "jGvCo0jS-W7o"
      },
      "execution_count": null,
      "outputs": []
    },
    {
      "cell_type": "code",
      "source": [
        "stock_data.isna().any()"
      ],
      "metadata": {
        "colab": {
          "base_uri": "https://localhost:8080/"
        },
        "id": "X2x8WNLt-wkF",
        "outputId": "f1b0c86a-55f7-43c2-85fe-69b78882cd80"
      },
      "execution_count": null,
      "outputs": [
        {
          "output_type": "execute_result",
          "data": {
            "text/plain": [
              "Open         False\n",
              "High         False\n",
              "Low          False\n",
              "Close        False\n",
              "Adj Close    False\n",
              "Volume       False\n",
              "dtype: bool"
            ]
          },
          "metadata": {},
          "execution_count": 260
        }
      ]
    },
    {
      "cell_type": "code",
      "source": [
        "data = stock_data.iloc[:, :5]\n",
        "data.head()"
      ],
      "metadata": {
        "colab": {
          "base_uri": "https://localhost:8080/",
          "height": 238
        },
        "id": "eqik-jto04qZ",
        "outputId": "ff5e64bd-cba4-4fb6-ed45-f04d5c1029e8"
      },
      "execution_count": null,
      "outputs": [
        {
          "output_type": "execute_result",
          "data": {
            "text/plain": [
              "                  Open        High         Low       Close   Adj Close\n",
              "Date                                                                  \n",
              "2007-04-02  344.615295  344.615295  332.288757  334.653076  315.101532\n",
              "2007-04-03  335.135101  340.276917  332.793762  336.833740  317.154755\n",
              "2007-04-04  341.791901  346.130280  339.771912  343.169159  323.120026\n",
              "2007-04-05  339.680084  346.566437  339.266907  342.503479  322.493256\n",
              "2007-04-09  343.834839  351.662323  342.044403  349.389832  328.977295"
            ],
            "text/html": [
              "\n",
              "  <div id=\"df-00ec220c-b849-431e-aa98-bb07fe1faf79\">\n",
              "    <div class=\"colab-df-container\">\n",
              "      <div>\n",
              "<style scoped>\n",
              "    .dataframe tbody tr th:only-of-type {\n",
              "        vertical-align: middle;\n",
              "    }\n",
              "\n",
              "    .dataframe tbody tr th {\n",
              "        vertical-align: top;\n",
              "    }\n",
              "\n",
              "    .dataframe thead th {\n",
              "        text-align: right;\n",
              "    }\n",
              "</style>\n",
              "<table border=\"1\" class=\"dataframe\">\n",
              "  <thead>\n",
              "    <tr style=\"text-align: right;\">\n",
              "      <th></th>\n",
              "      <th>Open</th>\n",
              "      <th>High</th>\n",
              "      <th>Low</th>\n",
              "      <th>Close</th>\n",
              "      <th>Adj Close</th>\n",
              "    </tr>\n",
              "    <tr>\n",
              "      <th>Date</th>\n",
              "      <th></th>\n",
              "      <th></th>\n",
              "      <th></th>\n",
              "      <th></th>\n",
              "      <th></th>\n",
              "    </tr>\n",
              "  </thead>\n",
              "  <tbody>\n",
              "    <tr>\n",
              "      <th>2007-04-02</th>\n",
              "      <td>344.615295</td>\n",
              "      <td>344.615295</td>\n",
              "      <td>332.288757</td>\n",
              "      <td>334.653076</td>\n",
              "      <td>315.101532</td>\n",
              "    </tr>\n",
              "    <tr>\n",
              "      <th>2007-04-03</th>\n",
              "      <td>335.135101</td>\n",
              "      <td>340.276917</td>\n",
              "      <td>332.793762</td>\n",
              "      <td>336.833740</td>\n",
              "      <td>317.154755</td>\n",
              "    </tr>\n",
              "    <tr>\n",
              "      <th>2007-04-04</th>\n",
              "      <td>341.791901</td>\n",
              "      <td>346.130280</td>\n",
              "      <td>339.771912</td>\n",
              "      <td>343.169159</td>\n",
              "      <td>323.120026</td>\n",
              "    </tr>\n",
              "    <tr>\n",
              "      <th>2007-04-05</th>\n",
              "      <td>339.680084</td>\n",
              "      <td>346.566437</td>\n",
              "      <td>339.266907</td>\n",
              "      <td>342.503479</td>\n",
              "      <td>322.493256</td>\n",
              "    </tr>\n",
              "    <tr>\n",
              "      <th>2007-04-09</th>\n",
              "      <td>343.834839</td>\n",
              "      <td>351.662323</td>\n",
              "      <td>342.044403</td>\n",
              "      <td>349.389832</td>\n",
              "      <td>328.977295</td>\n",
              "    </tr>\n",
              "  </tbody>\n",
              "</table>\n",
              "</div>\n",
              "      <button class=\"colab-df-convert\" onclick=\"convertToInteractive('df-00ec220c-b849-431e-aa98-bb07fe1faf79')\"\n",
              "              title=\"Convert this dataframe to an interactive table.\"\n",
              "              style=\"display:none;\">\n",
              "        \n",
              "  <svg xmlns=\"http://www.w3.org/2000/svg\" height=\"24px\"viewBox=\"0 0 24 24\"\n",
              "       width=\"24px\">\n",
              "    <path d=\"M0 0h24v24H0V0z\" fill=\"none\"/>\n",
              "    <path d=\"M18.56 5.44l.94 2.06.94-2.06 2.06-.94-2.06-.94-.94-2.06-.94 2.06-2.06.94zm-11 1L8.5 8.5l.94-2.06 2.06-.94-2.06-.94L8.5 2.5l-.94 2.06-2.06.94zm10 10l.94 2.06.94-2.06 2.06-.94-2.06-.94-.94-2.06-.94 2.06-2.06.94z\"/><path d=\"M17.41 7.96l-1.37-1.37c-.4-.4-.92-.59-1.43-.59-.52 0-1.04.2-1.43.59L10.3 9.45l-7.72 7.72c-.78.78-.78 2.05 0 2.83L4 21.41c.39.39.9.59 1.41.59.51 0 1.02-.2 1.41-.59l7.78-7.78 2.81-2.81c.8-.78.8-2.07 0-2.86zM5.41 20L4 18.59l7.72-7.72 1.47 1.35L5.41 20z\"/>\n",
              "  </svg>\n",
              "      </button>\n",
              "      \n",
              "  <style>\n",
              "    .colab-df-container {\n",
              "      display:flex;\n",
              "      flex-wrap:wrap;\n",
              "      gap: 12px;\n",
              "    }\n",
              "\n",
              "    .colab-df-convert {\n",
              "      background-color: #E8F0FE;\n",
              "      border: none;\n",
              "      border-radius: 50%;\n",
              "      cursor: pointer;\n",
              "      display: none;\n",
              "      fill: #1967D2;\n",
              "      height: 32px;\n",
              "      padding: 0 0 0 0;\n",
              "      width: 32px;\n",
              "    }\n",
              "\n",
              "    .colab-df-convert:hover {\n",
              "      background-color: #E2EBFA;\n",
              "      box-shadow: 0px 1px 2px rgba(60, 64, 67, 0.3), 0px 1px 3px 1px rgba(60, 64, 67, 0.15);\n",
              "      fill: #174EA6;\n",
              "    }\n",
              "\n",
              "    [theme=dark] .colab-df-convert {\n",
              "      background-color: #3B4455;\n",
              "      fill: #D2E3FC;\n",
              "    }\n",
              "\n",
              "    [theme=dark] .colab-df-convert:hover {\n",
              "      background-color: #434B5C;\n",
              "      box-shadow: 0px 1px 3px 1px rgba(0, 0, 0, 0.15);\n",
              "      filter: drop-shadow(0px 1px 2px rgba(0, 0, 0, 0.3));\n",
              "      fill: #FFFFFF;\n",
              "    }\n",
              "  </style>\n",
              "\n",
              "      <script>\n",
              "        const buttonEl =\n",
              "          document.querySelector('#df-00ec220c-b849-431e-aa98-bb07fe1faf79 button.colab-df-convert');\n",
              "        buttonEl.style.display =\n",
              "          google.colab.kernel.accessAllowed ? 'block' : 'none';\n",
              "\n",
              "        async function convertToInteractive(key) {\n",
              "          const element = document.querySelector('#df-00ec220c-b849-431e-aa98-bb07fe1faf79');\n",
              "          const dataTable =\n",
              "            await google.colab.kernel.invokeFunction('convertToInteractive',\n",
              "                                                     [key], {});\n",
              "          if (!dataTable) return;\n",
              "\n",
              "          const docLinkHtml = 'Like what you see? Visit the ' +\n",
              "            '<a target=\"_blank\" href=https://colab.research.google.com/notebooks/data_table.ipynb>data table notebook</a>'\n",
              "            + ' to learn more about interactive tables.';\n",
              "          element.innerHTML = '';\n",
              "          dataTable['output_type'] = 'display_data';\n",
              "          await google.colab.output.renderOutput(dataTable, element);\n",
              "          const docLink = document.createElement('div');\n",
              "          docLink.innerHTML = docLinkHtml;\n",
              "          element.appendChild(docLink);\n",
              "        }\n",
              "      </script>\n",
              "    </div>\n",
              "  </div>\n",
              "  "
            ]
          },
          "metadata": {},
          "execution_count": 261
        }
      ]
    },
    {
      "cell_type": "code",
      "source": [
        "scaler = StandardScaler()\n",
        "data_scaled = scaler.fit_transform(data.values)\n",
        "data_scaled = pd.DataFrame(columns=data.columns, data=data_scaled, index=data.index)\n",
        "data_scaled.head()"
      ],
      "metadata": {
        "colab": {
          "base_uri": "https://localhost:8080/",
          "height": 238
        },
        "id": "FNMNBQoh0US3",
        "outputId": "eba8ecbb-adcf-4ce7-a086-dc19dd01049f"
      },
      "execution_count": null,
      "outputs": [
        {
          "output_type": "execute_result",
          "data": {
            "text/plain": [
              "                Open      High       Low     Close  Adj Close\n",
              "Date                                                         \n",
              "2007-04-02 -0.232199 -0.285372 -0.291142 -0.324048  -0.391436\n",
              "2007-04-03 -0.323898 -0.326827 -0.286190 -0.302908  -0.372159\n",
              "2007-04-04 -0.259509 -0.270896 -0.217771 -0.241490  -0.316154\n",
              "2007-04-05 -0.279936 -0.266728 -0.222723 -0.247943  -0.322038\n",
              "2007-04-09 -0.239748 -0.218035 -0.195490 -0.181185  -0.261163"
            ],
            "text/html": [
              "\n",
              "  <div id=\"df-5de393dd-4ac7-46f7-956d-efd169eb12fe\">\n",
              "    <div class=\"colab-df-container\">\n",
              "      <div>\n",
              "<style scoped>\n",
              "    .dataframe tbody tr th:only-of-type {\n",
              "        vertical-align: middle;\n",
              "    }\n",
              "\n",
              "    .dataframe tbody tr th {\n",
              "        vertical-align: top;\n",
              "    }\n",
              "\n",
              "    .dataframe thead th {\n",
              "        text-align: right;\n",
              "    }\n",
              "</style>\n",
              "<table border=\"1\" class=\"dataframe\">\n",
              "  <thead>\n",
              "    <tr style=\"text-align: right;\">\n",
              "      <th></th>\n",
              "      <th>Open</th>\n",
              "      <th>High</th>\n",
              "      <th>Low</th>\n",
              "      <th>Close</th>\n",
              "      <th>Adj Close</th>\n",
              "    </tr>\n",
              "    <tr>\n",
              "      <th>Date</th>\n",
              "      <th></th>\n",
              "      <th></th>\n",
              "      <th></th>\n",
              "      <th></th>\n",
              "      <th></th>\n",
              "    </tr>\n",
              "  </thead>\n",
              "  <tbody>\n",
              "    <tr>\n",
              "      <th>2007-04-02</th>\n",
              "      <td>-0.232199</td>\n",
              "      <td>-0.285372</td>\n",
              "      <td>-0.291142</td>\n",
              "      <td>-0.324048</td>\n",
              "      <td>-0.391436</td>\n",
              "    </tr>\n",
              "    <tr>\n",
              "      <th>2007-04-03</th>\n",
              "      <td>-0.323898</td>\n",
              "      <td>-0.326827</td>\n",
              "      <td>-0.286190</td>\n",
              "      <td>-0.302908</td>\n",
              "      <td>-0.372159</td>\n",
              "    </tr>\n",
              "    <tr>\n",
              "      <th>2007-04-04</th>\n",
              "      <td>-0.259509</td>\n",
              "      <td>-0.270896</td>\n",
              "      <td>-0.217771</td>\n",
              "      <td>-0.241490</td>\n",
              "      <td>-0.316154</td>\n",
              "    </tr>\n",
              "    <tr>\n",
              "      <th>2007-04-05</th>\n",
              "      <td>-0.279936</td>\n",
              "      <td>-0.266728</td>\n",
              "      <td>-0.222723</td>\n",
              "      <td>-0.247943</td>\n",
              "      <td>-0.322038</td>\n",
              "    </tr>\n",
              "    <tr>\n",
              "      <th>2007-04-09</th>\n",
              "      <td>-0.239748</td>\n",
              "      <td>-0.218035</td>\n",
              "      <td>-0.195490</td>\n",
              "      <td>-0.181185</td>\n",
              "      <td>-0.261163</td>\n",
              "    </tr>\n",
              "  </tbody>\n",
              "</table>\n",
              "</div>\n",
              "      <button class=\"colab-df-convert\" onclick=\"convertToInteractive('df-5de393dd-4ac7-46f7-956d-efd169eb12fe')\"\n",
              "              title=\"Convert this dataframe to an interactive table.\"\n",
              "              style=\"display:none;\">\n",
              "        \n",
              "  <svg xmlns=\"http://www.w3.org/2000/svg\" height=\"24px\"viewBox=\"0 0 24 24\"\n",
              "       width=\"24px\">\n",
              "    <path d=\"M0 0h24v24H0V0z\" fill=\"none\"/>\n",
              "    <path d=\"M18.56 5.44l.94 2.06.94-2.06 2.06-.94-2.06-.94-.94-2.06-.94 2.06-2.06.94zm-11 1L8.5 8.5l.94-2.06 2.06-.94-2.06-.94L8.5 2.5l-.94 2.06-2.06.94zm10 10l.94 2.06.94-2.06 2.06-.94-2.06-.94-.94-2.06-.94 2.06-2.06.94z\"/><path d=\"M17.41 7.96l-1.37-1.37c-.4-.4-.92-.59-1.43-.59-.52 0-1.04.2-1.43.59L10.3 9.45l-7.72 7.72c-.78.78-.78 2.05 0 2.83L4 21.41c.39.39.9.59 1.41.59.51 0 1.02-.2 1.41-.59l7.78-7.78 2.81-2.81c.8-.78.8-2.07 0-2.86zM5.41 20L4 18.59l7.72-7.72 1.47 1.35L5.41 20z\"/>\n",
              "  </svg>\n",
              "      </button>\n",
              "      \n",
              "  <style>\n",
              "    .colab-df-container {\n",
              "      display:flex;\n",
              "      flex-wrap:wrap;\n",
              "      gap: 12px;\n",
              "    }\n",
              "\n",
              "    .colab-df-convert {\n",
              "      background-color: #E8F0FE;\n",
              "      border: none;\n",
              "      border-radius: 50%;\n",
              "      cursor: pointer;\n",
              "      display: none;\n",
              "      fill: #1967D2;\n",
              "      height: 32px;\n",
              "      padding: 0 0 0 0;\n",
              "      width: 32px;\n",
              "    }\n",
              "\n",
              "    .colab-df-convert:hover {\n",
              "      background-color: #E2EBFA;\n",
              "      box-shadow: 0px 1px 2px rgba(60, 64, 67, 0.3), 0px 1px 3px 1px rgba(60, 64, 67, 0.15);\n",
              "      fill: #174EA6;\n",
              "    }\n",
              "\n",
              "    [theme=dark] .colab-df-convert {\n",
              "      background-color: #3B4455;\n",
              "      fill: #D2E3FC;\n",
              "    }\n",
              "\n",
              "    [theme=dark] .colab-df-convert:hover {\n",
              "      background-color: #434B5C;\n",
              "      box-shadow: 0px 1px 3px 1px rgba(0, 0, 0, 0.15);\n",
              "      filter: drop-shadow(0px 1px 2px rgba(0, 0, 0, 0.3));\n",
              "      fill: #FFFFFF;\n",
              "    }\n",
              "  </style>\n",
              "\n",
              "      <script>\n",
              "        const buttonEl =\n",
              "          document.querySelector('#df-5de393dd-4ac7-46f7-956d-efd169eb12fe button.colab-df-convert');\n",
              "        buttonEl.style.display =\n",
              "          google.colab.kernel.accessAllowed ? 'block' : 'none';\n",
              "\n",
              "        async function convertToInteractive(key) {\n",
              "          const element = document.querySelector('#df-5de393dd-4ac7-46f7-956d-efd169eb12fe');\n",
              "          const dataTable =\n",
              "            await google.colab.kernel.invokeFunction('convertToInteractive',\n",
              "                                                     [key], {});\n",
              "          if (!dataTable) return;\n",
              "\n",
              "          const docLinkHtml = 'Like what you see? Visit the ' +\n",
              "            '<a target=\"_blank\" href=https://colab.research.google.com/notebooks/data_table.ipynb>data table notebook</a>'\n",
              "            + ' to learn more about interactive tables.';\n",
              "          element.innerHTML = '';\n",
              "          dataTable['output_type'] = 'display_data';\n",
              "          await google.colab.output.renderOutput(dataTable, element);\n",
              "          const docLink = document.createElement('div');\n",
              "          docLink.innerHTML = docLinkHtml;\n",
              "          element.appendChild(docLink);\n",
              "        }\n",
              "      </script>\n",
              "    </div>\n",
              "  </div>\n",
              "  "
            ]
          },
          "metadata": {},
          "execution_count": 263
        }
      ]
    },
    {
      "cell_type": "code",
      "source": [
        "scaler_target = StandardScaler()\n",
        "scaler_target.fit_transform(data.iloc[:, 0:1])"
      ],
      "metadata": {
        "colab": {
          "base_uri": "https://localhost:8080/"
        },
        "id": "rmAe9xmw_3Ep",
        "outputId": "31757a28-119e-4679-c8ec-c66ba0994dde"
      },
      "execution_count": null,
      "outputs": [
        {
          "output_type": "execute_result",
          "data": {
            "text/plain": [
              "array([[-0.23219932],\n",
              "       [-0.32389784],\n",
              "       [-0.259509  ],\n",
              "       ...,\n",
              "       [ 3.35281731],\n",
              "       [ 3.59608447],\n",
              "       [ 3.81226778]])"
            ]
          },
          "metadata": {},
          "execution_count": 264
        }
      ]
    },
    {
      "cell_type": "code",
      "source": [
        "train_split = 0.80\n",
        "split_idx = int(np.ceil(len(data_scaled)*train_split))\n",
        "train_data, test_data = data_scaled[:split_idx], data_scaled[split_idx:]"
      ],
      "metadata": {
        "id": "EReAmlzp7T97"
      },
      "execution_count": null,
      "outputs": []
    },
    {
      "cell_type": "code",
      "source": [
        "train_data.shape, test_data.shape"
      ],
      "metadata": {
        "colab": {
          "base_uri": "https://localhost:8080/"
        },
        "id": "pcU-M8G27z31",
        "outputId": "2348e88f-5dea-43da-c33e-a5068a9d2bf2"
      },
      "execution_count": null,
      "outputs": [
        {
          "output_type": "execute_result",
          "data": {
            "text/plain": [
              "((2964, 5), (741, 5))"
            ]
          },
          "metadata": {},
          "execution_count": 266
        }
      ]
    },
    {
      "cell_type": "code",
      "source": [
        "# training of an LSTM model requires a window/timestep of data in each training \n",
        "# step(e.g. LSTM may take 9 data samples to predict the 10th one by weighing \n",
        "# the first nine input samples in one step)"
      ],
      "metadata": {
        "id": "OFHSUCMYAvPR"
      },
      "execution_count": null,
      "outputs": []
    },
    {
      "cell_type": "code",
      "source": [
        "def create_dataset(dataset, time_step=1):\n",
        "    X_data, y_data = [], []\n",
        "    for i in range(len(dataset)-time_step-1):\n",
        "        X_data.append(dataset.iloc[i:i+time_step,:])\n",
        "        y_data.append(dataset.iloc[i+time_step,0])\n",
        "\n",
        "    return np.array(X_data), np.array(y_data)"
      ],
      "metadata": {
        "id": "-OzqMvf14P5X"
      },
      "execution_count": null,
      "outputs": []
    },
    {
      "cell_type": "code",
      "source": [
        "window = 10\n",
        "X_train, y_train = create_dataset(train_data, window)\n",
        "X_test, y_test = create_dataset(test_data, window)"
      ],
      "metadata": {
        "id": "No6YRy1z5pZe"
      },
      "execution_count": null,
      "outputs": []
    },
    {
      "cell_type": "code",
      "source": [
        "X_train.shape, y_train.shape"
      ],
      "metadata": {
        "colab": {
          "base_uri": "https://localhost:8080/"
        },
        "id": "knw1IF-M6FwH",
        "outputId": "9c2e3f79-1bc0-476e-c543-eb5ce36499e8"
      },
      "execution_count": null,
      "outputs": [
        {
          "output_type": "execute_result",
          "data": {
            "text/plain": [
              "((2953, 10, 5), (2953,))"
            ]
          },
          "metadata": {},
          "execution_count": 293
        }
      ]
    },
    {
      "cell_type": "code",
      "source": [
        "X_test.shape, y_test.shape"
      ],
      "metadata": {
        "colab": {
          "base_uri": "https://localhost:8080/"
        },
        "id": "w3g_Nrx66U2a",
        "outputId": "2ddc9b12-5d0a-4ef1-e008-6b24f66e47ba"
      },
      "execution_count": null,
      "outputs": [
        {
          "output_type": "execute_result",
          "data": {
            "text/plain": [
              "((730, 10, 5), (730,))"
            ]
          },
          "metadata": {},
          "execution_count": 294
        }
      ]
    },
    {
      "cell_type": "code",
      "source": [
        "model = Sequential()\n",
        "\n",
        "model.add(LSTM(50, input_shape=X_train.shape[1:], return_sequences=True))\n",
        "\n",
        "model.add(Dropout(0.2))\n",
        "\n",
        "model.add(LSTM(50))\n",
        "\n",
        "model.add(Dropout(0.2))\n",
        "\n",
        "model.add(Dense(1))"
      ],
      "metadata": {
        "id": "oTeFa7lA7JSW"
      },
      "execution_count": null,
      "outputs": []
    },
    {
      "cell_type": "code",
      "source": [
        "optim = tf.keras.optimizers.Adam(learning_rate=1e-3, decay=1e-5)\n",
        "model.compile(loss='mean_squared_error', optimizer=optim)"
      ],
      "metadata": {
        "id": "1js9T5KD8UZD"
      },
      "execution_count": null,
      "outputs": []
    },
    {
      "cell_type": "code",
      "source": [
        "model.summary()"
      ],
      "metadata": {
        "colab": {
          "base_uri": "https://localhost:8080/"
        },
        "id": "a5UjyQW38rHG",
        "outputId": "ca073039-76b6-4d4b-ee0d-f7c7be5831c2"
      },
      "execution_count": null,
      "outputs": [
        {
          "output_type": "stream",
          "name": "stdout",
          "text": [
            "Model: \"sequential_10\"\n",
            "_________________________________________________________________\n",
            " Layer (type)                Output Shape              Param #   \n",
            "=================================================================\n",
            " lstm_19 (LSTM)              (None, 10, 50)            11200     \n",
            "                                                                 \n",
            " dropout_16 (Dropout)        (None, 10, 50)            0         \n",
            "                                                                 \n",
            " lstm_20 (LSTM)              (None, 50)                20200     \n",
            "                                                                 \n",
            " dropout_17 (Dropout)        (None, 50)                0         \n",
            "                                                                 \n",
            " dense_9 (Dense)             (None, 1)                 51        \n",
            "                                                                 \n",
            "=================================================================\n",
            "Total params: 31,451\n",
            "Trainable params: 31,451\n",
            "Non-trainable params: 0\n",
            "_________________________________________________________________\n"
          ]
        }
      ]
    },
    {
      "cell_type": "code",
      "source": [
        "history = model.fit(X_train, y_train, validation_data=(X_test, y_test), \n",
        "                    epochs=100, batch_size=32, verbose=2)"
      ],
      "metadata": {
        "colab": {
          "base_uri": "https://localhost:8080/"
        },
        "id": "PsUsAwEM8st5",
        "outputId": "7900cff4-b6f7-4229-d154-c8976a2b2365"
      },
      "execution_count": null,
      "outputs": [
        {
          "output_type": "stream",
          "name": "stdout",
          "text": [
            "Epoch 1/100\n",
            "93/93 - 6s - loss: 0.0325 - val_loss: 0.5617 - 6s/epoch - 64ms/step\n",
            "Epoch 2/100\n",
            "93/93 - 1s - loss: 0.0182 - val_loss: 0.3061 - 1s/epoch - 11ms/step\n",
            "Epoch 3/100\n",
            "93/93 - 1s - loss: 0.0156 - val_loss: 0.2418 - 983ms/epoch - 11ms/step\n",
            "Epoch 4/100\n",
            "93/93 - 1s - loss: 0.0143 - val_loss: 0.0993 - 932ms/epoch - 10ms/step\n",
            "Epoch 5/100\n",
            "93/93 - 1s - loss: 0.0129 - val_loss: 0.1611 - 1s/epoch - 11ms/step\n",
            "Epoch 6/100\n",
            "93/93 - 1s - loss: 0.0124 - val_loss: 0.1012 - 928ms/epoch - 10ms/step\n",
            "Epoch 7/100\n",
            "93/93 - 1s - loss: 0.0119 - val_loss: 0.1644 - 953ms/epoch - 10ms/step\n",
            "Epoch 8/100\n",
            "93/93 - 1s - loss: 0.0104 - val_loss: 0.1396 - 970ms/epoch - 10ms/step\n",
            "Epoch 9/100\n",
            "93/93 - 1s - loss: 0.0112 - val_loss: 0.0495 - 949ms/epoch - 10ms/step\n",
            "Epoch 10/100\n",
            "93/93 - 1s - loss: 0.0100 - val_loss: 0.0533 - 933ms/epoch - 10ms/step\n",
            "Epoch 11/100\n",
            "93/93 - 1s - loss: 0.0096 - val_loss: 0.0629 - 975ms/epoch - 10ms/step\n",
            "Epoch 12/100\n",
            "93/93 - 1s - loss: 0.0099 - val_loss: 0.0655 - 1s/epoch - 16ms/step\n",
            "Epoch 13/100\n",
            "93/93 - 1s - loss: 0.0087 - val_loss: 0.0552 - 940ms/epoch - 10ms/step\n",
            "Epoch 14/100\n",
            "93/93 - 1s - loss: 0.0087 - val_loss: 0.0947 - 976ms/epoch - 10ms/step\n",
            "Epoch 15/100\n",
            "93/93 - 1s - loss: 0.0082 - val_loss: 0.0789 - 1s/epoch - 11ms/step\n",
            "Epoch 16/100\n",
            "93/93 - 1s - loss: 0.0083 - val_loss: 0.0338 - 970ms/epoch - 10ms/step\n",
            "Epoch 17/100\n",
            "93/93 - 1s - loss: 0.0081 - val_loss: 0.0675 - 954ms/epoch - 10ms/step\n",
            "Epoch 18/100\n",
            "93/93 - 1s - loss: 0.0077 - val_loss: 0.0746 - 954ms/epoch - 10ms/step\n",
            "Epoch 19/100\n",
            "93/93 - 1s - loss: 0.0074 - val_loss: 0.0633 - 1s/epoch - 11ms/step\n",
            "Epoch 20/100\n",
            "93/93 - 1s - loss: 0.0083 - val_loss: 0.0211 - 980ms/epoch - 11ms/step\n",
            "Epoch 21/100\n",
            "93/93 - 1s - loss: 0.0075 - val_loss: 0.0405 - 980ms/epoch - 11ms/step\n",
            "Epoch 22/100\n",
            "93/93 - 1s - loss: 0.0075 - val_loss: 0.0124 - 955ms/epoch - 10ms/step\n",
            "Epoch 23/100\n",
            "93/93 - 1s - loss: 0.0074 - val_loss: 0.0230 - 1s/epoch - 11ms/step\n",
            "Epoch 24/100\n",
            "93/93 - 1s - loss: 0.0075 - val_loss: 0.0182 - 950ms/epoch - 10ms/step\n",
            "Epoch 25/100\n",
            "93/93 - 1s - loss: 0.0076 - val_loss: 0.0479 - 946ms/epoch - 10ms/step\n",
            "Epoch 26/100\n",
            "93/93 - 1s - loss: 0.0069 - val_loss: 0.0426 - 978ms/epoch - 11ms/step\n",
            "Epoch 27/100\n",
            "93/93 - 1s - loss: 0.0070 - val_loss: 0.0380 - 946ms/epoch - 10ms/step\n",
            "Epoch 28/100\n",
            "93/93 - 1s - loss: 0.0070 - val_loss: 0.0604 - 944ms/epoch - 10ms/step\n",
            "Epoch 29/100\n",
            "93/93 - 1s - loss: 0.0076 - val_loss: 0.0118 - 960ms/epoch - 10ms/step\n",
            "Epoch 30/100\n",
            "93/93 - 1s - loss: 0.0071 - val_loss: 0.0159 - 972ms/epoch - 10ms/step\n",
            "Epoch 31/100\n",
            "93/93 - 1s - loss: 0.0070 - val_loss: 0.0163 - 973ms/epoch - 10ms/step\n",
            "Epoch 32/100\n",
            "93/93 - 1s - loss: 0.0073 - val_loss: 0.0531 - 950ms/epoch - 10ms/step\n",
            "Epoch 33/100\n",
            "93/93 - 1s - loss: 0.0072 - val_loss: 0.0325 - 948ms/epoch - 10ms/step\n",
            "Epoch 34/100\n",
            "93/93 - 1s - loss: 0.0067 - val_loss: 0.0442 - 968ms/epoch - 10ms/step\n",
            "Epoch 35/100\n",
            "93/93 - 1s - loss: 0.0071 - val_loss: 0.0134 - 1s/epoch - 11ms/step\n",
            "Epoch 36/100\n",
            "93/93 - 1s - loss: 0.0068 - val_loss: 0.0407 - 982ms/epoch - 11ms/step\n",
            "Epoch 37/100\n",
            "93/93 - 1s - loss: 0.0066 - val_loss: 0.0177 - 964ms/epoch - 10ms/step\n",
            "Epoch 38/100\n",
            "93/93 - 1s - loss: 0.0066 - val_loss: 0.0117 - 960ms/epoch - 10ms/step\n",
            "Epoch 39/100\n",
            "93/93 - 1s - loss: 0.0067 - val_loss: 0.0073 - 968ms/epoch - 10ms/step\n",
            "Epoch 40/100\n",
            "93/93 - 1s - loss: 0.0068 - val_loss: 0.0083 - 991ms/epoch - 11ms/step\n",
            "Epoch 41/100\n",
            "93/93 - 1s - loss: 0.0066 - val_loss: 0.0482 - 950ms/epoch - 10ms/step\n",
            "Epoch 42/100\n",
            "93/93 - 1s - loss: 0.0062 - val_loss: 0.0301 - 972ms/epoch - 10ms/step\n",
            "Epoch 43/100\n",
            "93/93 - 1s - loss: 0.0068 - val_loss: 0.0518 - 939ms/epoch - 10ms/step\n",
            "Epoch 44/100\n",
            "93/93 - 1s - loss: 0.0067 - val_loss: 0.0550 - 1s/epoch - 11ms/step\n",
            "Epoch 45/100\n",
            "93/93 - 1s - loss: 0.0065 - val_loss: 0.0080 - 961ms/epoch - 10ms/step\n",
            "Epoch 46/100\n",
            "93/93 - 1s - loss: 0.0069 - val_loss: 0.0915 - 968ms/epoch - 10ms/step\n",
            "Epoch 47/100\n",
            "93/93 - 1s - loss: 0.0068 - val_loss: 0.0469 - 933ms/epoch - 10ms/step\n",
            "Epoch 48/100\n",
            "93/93 - 1s - loss: 0.0069 - val_loss: 0.0792 - 1s/epoch - 11ms/step\n",
            "Epoch 49/100\n",
            "93/93 - 1s - loss: 0.0063 - val_loss: 0.0243 - 952ms/epoch - 10ms/step\n",
            "Epoch 50/100\n",
            "93/93 - 1s - loss: 0.0063 - val_loss: 0.0189 - 1s/epoch - 11ms/step\n",
            "Epoch 51/100\n",
            "93/93 - 1s - loss: 0.0067 - val_loss: 0.0268 - 967ms/epoch - 10ms/step\n",
            "Epoch 52/100\n",
            "93/93 - 1s - loss: 0.0065 - val_loss: 0.0140 - 1s/epoch - 11ms/step\n",
            "Epoch 53/100\n",
            "93/93 - 1s - loss: 0.0067 - val_loss: 0.0348 - 949ms/epoch - 10ms/step\n",
            "Epoch 54/100\n",
            "93/93 - 1s - loss: 0.0065 - val_loss: 0.0329 - 1s/epoch - 11ms/step\n",
            "Epoch 55/100\n",
            "93/93 - 1s - loss: 0.0064 - val_loss: 0.0364 - 967ms/epoch - 10ms/step\n",
            "Epoch 56/100\n",
            "93/93 - 1s - loss: 0.0063 - val_loss: 0.0287 - 940ms/epoch - 10ms/step\n",
            "Epoch 57/100\n",
            "93/93 - 1s - loss: 0.0063 - val_loss: 0.1257 - 1s/epoch - 11ms/step\n",
            "Epoch 58/100\n",
            "93/93 - 1s - loss: 0.0064 - val_loss: 0.1101 - 1s/epoch - 11ms/step\n",
            "Epoch 59/100\n",
            "93/93 - 1s - loss: 0.0063 - val_loss: 0.0265 - 971ms/epoch - 10ms/step\n",
            "Epoch 60/100\n",
            "93/93 - 1s - loss: 0.0068 - val_loss: 0.0147 - 982ms/epoch - 11ms/step\n",
            "Epoch 61/100\n",
            "93/93 - 1s - loss: 0.0063 - val_loss: 0.0278 - 947ms/epoch - 10ms/step\n",
            "Epoch 62/100\n",
            "93/93 - 1s - loss: 0.0062 - val_loss: 0.0153 - 948ms/epoch - 10ms/step\n",
            "Epoch 63/100\n",
            "93/93 - 1s - loss: 0.0068 - val_loss: 0.0529 - 979ms/epoch - 11ms/step\n",
            "Epoch 64/100\n",
            "93/93 - 1s - loss: 0.0061 - val_loss: 0.0234 - 948ms/epoch - 10ms/step\n",
            "Epoch 65/100\n",
            "93/93 - 1s - loss: 0.0064 - val_loss: 0.0762 - 967ms/epoch - 10ms/step\n",
            "Epoch 66/100\n",
            "93/93 - 1s - loss: 0.0063 - val_loss: 0.0221 - 1s/epoch - 11ms/step\n",
            "Epoch 67/100\n",
            "93/93 - 1s - loss: 0.0067 - val_loss: 0.0507 - 1s/epoch - 12ms/step\n",
            "Epoch 68/100\n",
            "93/93 - 1s - loss: 0.0065 - val_loss: 0.0243 - 976ms/epoch - 10ms/step\n",
            "Epoch 69/100\n",
            "93/93 - 1s - loss: 0.0063 - val_loss: 0.0735 - 966ms/epoch - 10ms/step\n",
            "Epoch 70/100\n",
            "93/93 - 1s - loss: 0.0062 - val_loss: 0.1174 - 999ms/epoch - 11ms/step\n",
            "Epoch 71/100\n",
            "93/93 - 1s - loss: 0.0061 - val_loss: 0.1124 - 970ms/epoch - 10ms/step\n",
            "Epoch 72/100\n",
            "93/93 - 1s - loss: 0.0065 - val_loss: 0.0874 - 939ms/epoch - 10ms/step\n",
            "Epoch 73/100\n",
            "93/93 - 1s - loss: 0.0062 - val_loss: 0.1007 - 960ms/epoch - 10ms/step\n",
            "Epoch 74/100\n",
            "93/93 - 1s - loss: 0.0064 - val_loss: 0.1637 - 1s/epoch - 11ms/step\n",
            "Epoch 75/100\n",
            "93/93 - 1s - loss: 0.0064 - val_loss: 0.0409 - 956ms/epoch - 10ms/step\n",
            "Epoch 76/100\n",
            "93/93 - 1s - loss: 0.0065 - val_loss: 0.1168 - 1s/epoch - 16ms/step\n",
            "Epoch 77/100\n",
            "93/93 - 1s - loss: 0.0060 - val_loss: 0.1015 - 938ms/epoch - 10ms/step\n",
            "Epoch 78/100\n",
            "93/93 - 1s - loss: 0.0060 - val_loss: 0.0898 - 956ms/epoch - 10ms/step\n",
            "Epoch 79/100\n",
            "93/93 - 1s - loss: 0.0061 - val_loss: 0.0272 - 939ms/epoch - 10ms/step\n",
            "Epoch 80/100\n",
            "93/93 - 1s - loss: 0.0063 - val_loss: 0.0293 - 936ms/epoch - 10ms/step\n",
            "Epoch 81/100\n",
            "93/93 - 1s - loss: 0.0064 - val_loss: 0.0937 - 935ms/epoch - 10ms/step\n",
            "Epoch 82/100\n",
            "93/93 - 1s - loss: 0.0061 - val_loss: 0.0581 - 1s/epoch - 11ms/step\n",
            "Epoch 83/100\n",
            "93/93 - 2s - loss: 0.0068 - val_loss: 0.0429 - 2s/epoch - 18ms/step\n",
            "Epoch 84/100\n",
            "93/93 - 1s - loss: 0.0064 - val_loss: 0.0731 - 1s/epoch - 13ms/step\n",
            "Epoch 85/100\n",
            "93/93 - 1s - loss: 0.0063 - val_loss: 0.0939 - 1s/epoch - 11ms/step\n",
            "Epoch 86/100\n",
            "93/93 - 1s - loss: 0.0065 - val_loss: 0.0713 - 1s/epoch - 16ms/step\n",
            "Epoch 87/100\n",
            "93/93 - 1s - loss: 0.0062 - val_loss: 0.1492 - 945ms/epoch - 10ms/step\n",
            "Epoch 88/100\n",
            "93/93 - 1s - loss: 0.0058 - val_loss: 0.1583 - 934ms/epoch - 10ms/step\n",
            "Epoch 89/100\n",
            "93/93 - 1s - loss: 0.0061 - val_loss: 0.0960 - 953ms/epoch - 10ms/step\n",
            "Epoch 90/100\n",
            "93/93 - 1s - loss: 0.0059 - val_loss: 0.1417 - 960ms/epoch - 10ms/step\n",
            "Epoch 91/100\n",
            "93/93 - 1s - loss: 0.0058 - val_loss: 0.0804 - 1s/epoch - 11ms/step\n",
            "Epoch 92/100\n",
            "93/93 - 1s - loss: 0.0061 - val_loss: 0.0931 - 946ms/epoch - 10ms/step\n",
            "Epoch 93/100\n",
            "93/93 - 1s - loss: 0.0060 - val_loss: 0.0865 - 968ms/epoch - 10ms/step\n",
            "Epoch 94/100\n",
            "93/93 - 1s - loss: 0.0058 - val_loss: 0.1023 - 952ms/epoch - 10ms/step\n",
            "Epoch 95/100\n",
            "93/93 - 1s - loss: 0.0058 - val_loss: 0.1121 - 958ms/epoch - 10ms/step\n",
            "Epoch 96/100\n",
            "93/93 - 1s - loss: 0.0063 - val_loss: 0.1552 - 948ms/epoch - 10ms/step\n",
            "Epoch 97/100\n",
            "93/93 - 1s - loss: 0.0059 - val_loss: 0.0562 - 990ms/epoch - 11ms/step\n",
            "Epoch 98/100\n",
            "93/93 - 1s - loss: 0.0059 - val_loss: 0.0447 - 956ms/epoch - 10ms/step\n",
            "Epoch 99/100\n",
            "93/93 - 1s - loss: 0.0058 - val_loss: 0.1104 - 940ms/epoch - 10ms/step\n",
            "Epoch 100/100\n",
            "93/93 - 1s - loss: 0.0059 - val_loss: 0.0508 - 960ms/epoch - 10ms/step\n"
          ]
        }
      ]
    },
    {
      "cell_type": "code",
      "source": [
        "plt.plot(history.history['loss'], label='train')\n",
        "plt.plot(history.history['val_loss'], label='test')\n",
        "plt.legend()"
      ],
      "metadata": {
        "colab": {
          "base_uri": "https://localhost:8080/",
          "height": 282
        },
        "id": "aSLMkdP0Cqcu",
        "outputId": "9183c00e-ddc7-4ed9-b689-752d8901ae87"
      },
      "execution_count": null,
      "outputs": [
        {
          "output_type": "execute_result",
          "data": {
            "text/plain": [
              "<matplotlib.legend.Legend at 0x7f0082deaf90>"
            ]
          },
          "metadata": {},
          "execution_count": 299
        },
        {
          "output_type": "display_data",
          "data": {
            "text/plain": [
              "<Figure size 432x288 with 1 Axes>"
            ],
            "image/png": "[encoded data removed]"
          },
          "metadata": {
            "needs_background": "light"
          }
        }
      ]
    },
    {
      "cell_type": "code",
      "source": [
        "train_pred = model.predict(X_train)\n",
        "test_pred = model.predict(X_test)"
      ],
      "metadata": {
        "colab": {
          "base_uri": "https://localhost:8080/"
        },
        "id": "3BGK0u7m9EDH",
        "outputId": "5daaffb5-88ed-4cf3-dd8c-f1a22770f376"
      },
      "execution_count": null,
      "outputs": [
        {
          "output_type": "stream",
          "name": "stdout",
          "text": [
            "93/93 [==============================] - 1s 4ms/step\n",
            "23/23 [==============================] - 0s 4ms/step\n"
          ]
        }
      ]
    },
    {
      "cell_type": "code",
      "source": [
        "# performance metrics\n",
        "rmse = mean_squared_error(test_pred, y_test, squared=False)\n",
        "mape = mean_absolute_percentage_error(test_pred, y_test)\n",
        "print(f\"RMSE: {rmse}\")\n",
        "print(f\"MAPE: {mape}\")"
      ],
      "metadata": {
        "colab": {
          "base_uri": "https://localhost:8080/"
        },
        "id": "cugbmqlHxebF",
        "outputId": "3811ad2b-f86e-4c33-90d6-b73dad934996"
      },
      "execution_count": null,
      "outputs": [
        {
          "output_type": "stream",
          "name": "stdout",
          "text": [
            "RMSE: 0.2253533008686469\n",
            "MAPE: 0.20787977151051082\n"
          ]
        }
      ]
    },
    {
      "cell_type": "code",
      "source": [
        "train_pred.shape, test_pred.shape "
      ],
      "metadata": {
        "colab": {
          "base_uri": "https://localhost:8080/"
        },
        "id": "x102hkcptaZX",
        "outputId": "1cf32e77-dd02-4598-c220-90c88a178b7b"
      },
      "execution_count": null,
      "outputs": [
        {
          "output_type": "execute_result",
          "data": {
            "text/plain": [
              "((2953, 1), (730, 1))"
            ]
          },
          "metadata": {},
          "execution_count": 302
        }
      ]
    },
    {
      "cell_type": "code",
      "source": [
        "# re-scaling the predictions\n",
        "train_pred = scaler.inverse_transform(\n",
        "    np.repeat(train_pred, data.shape[1], axis=-1))[:, 0]\n",
        "\n",
        "test_pred = scaler.inverse_transform(\n",
        "    np.repeat(test_pred, data.shape[1], axis=-1))[:, 0]"
      ],
      "metadata": {
        "id": "k8hSLfWMDOFK"
      },
      "execution_count": null,
      "outputs": []
    },
    {
      "cell_type": "code",
      "source": [],
      "metadata": {
        "id": "WqLjlqfDCsM2"
      },
      "execution_count": null,
      "outputs": []
    }
  ]
}